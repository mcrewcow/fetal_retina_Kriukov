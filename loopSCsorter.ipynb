{
 "cells": [
  {
   "cell_type": "code",
   "execution_count": 1,
   "id": "12950548-b9df-4b6a-9961-c4dbcb1e84c5",
   "metadata": {},
   "outputs": [
    {
     "name": "stderr",
     "output_type": "stream",
     "text": [
      "OMP: Info #276: omp_set_nested routine deprecated, please use omp_set_max_active_levels instead.\n"
     ]
    }
   ],
   "source": [
    "import matplotlib.pyplot as plt\n",
    "import os\n",
    "import numpy as np\n",
    "from pprint import pprint\n",
    "\n",
    "import spikeinterface.core as si\n",
    "import spikeinterface.extractors as se\n",
    "import spikeinterface.preprocessing as spre\n",
    "import spikeinterface.sorters as ss\n",
    "import spikeinterface.postprocessing as spost\n",
    "import spikeinterface.qualitymetrics as sqm\n",
    "import spikeinterface.exporters as sexp\n",
    "import spikeinterface.comparison as scmp\n",
    "import spikeinterface.curation as scur\n",
    "import spikeinterface.sortingcomponents as sc\n",
    "import spikeinterface.widgets as sw\n",
    "from probeinterface.plotting import plot_probe"
   ]
  },
  {
   "cell_type": "code",
   "execution_count": 2,
   "id": "2d499886-3fcb-4ac7-968a-98f41bdbe4fa",
   "metadata": {},
   "outputs": [],
   "source": [
    "si.set_global_job_kwargs(n_jobs=0.8)\n",
    "other_params2 = ss.get_default_sorter_params('spykingcircus2')\n",
    "other_params2['detection']['detect_threshold'] = 5\n",
    "other_params2['general']['radius_um'] = 250"
   ]
  },
  {
   "cell_type": "code",
   "execution_count": 3,
   "id": "88d30088-3958-46e3-8373-f4f226850b46",
   "metadata": {},
   "outputs": [
    {
     "data": {
      "text/plain": [
       "['RGC_PODs_NMDA_d20_2.h5', 'RGC_PODs_d20_2.h5']"
      ]
     },
     "execution_count": 3,
     "metadata": {},
     "output_type": "execute_result"
    }
   ],
   "source": [
    "path = \"/Users/jonsoucy/Desktop/maxlab/test\"\n",
    "datafiles = [f for f in os.listdir(path) if f.endswith('.h5')]\n",
    "datafiles"
   ]
  },
  {
   "cell_type": "code",
   "execution_count": 4,
   "id": "8ab331ff-fd64-4696-917f-a153ce419256",
   "metadata": {},
   "outputs": [
    {
     "name": "stdout",
     "output_type": "stream",
     "text": [
      "MaxwellRecordingExtractor: 1005 channels - 20.0kHz - 1 segments - 6,000,400 samples \n",
      "                           300.02s (5.00 minutes) - uint16 dtype - 11.23 GiB\n",
      "  file_path: /Users/jonsoucy/Desktop/maxlab/test/RGC_PODs_NMDA_d20_2.h5\n"
     ]
    },
    {
     "name": "stderr",
     "output_type": "stream",
     "text": [
      "/Users/jonsoucy/anaconda3/envs/spike/lib/python3.11/site-packages/spikeinterface/preprocessing/normalize_scale.py:289: RuntimeWarning: divide by zero encountered in divide\n",
      "  gain = 1 / mads\n",
      "/Users/jonsoucy/anaconda3/envs/spike/lib/python3.11/site-packages/spikeinterface/preprocessing/normalize_scale.py:290: RuntimeWarning: invalid value encountered in divide\n",
      "  offset = -medians / mads\n",
      "/Users/jonsoucy/anaconda3/envs/spike/lib/python3.11/site-packages/spikeinterface/preprocessing/normalize_scale.py:22: RuntimeWarning: invalid value encountered in multiply\n",
      "  scaled_traces = traces * self.gain[:, channel_indices] + self.offset[:, channel_indices]\n"
     ]
    },
    {
     "name": "stdout",
     "output_type": "stream",
     "text": [
      "detect peaks using locally_exclusive with n_jobs = 12 and chunk_size = 20000\n"
     ]
    },
    {
     "name": "stderr",
     "output_type": "stream",
     "text": [
      "/Users/jonsoucy/anaconda3/envs/spike/lib/python3.11/site-packages/spikeinterface/preprocessing/normalize_scale.py:22: RuntimeWarning: invalid value encountered in multiply\n",
      "  scaled_traces = traces * self.gain[:, channel_indices] + self.offset[:, channel_indices]\n",
      "/Users/jonsoucy/anaconda3/envs/spike/lib/python3.11/site-packages/spikeinterface/preprocessing/normalize_scale.py:22: RuntimeWarning: invalid value encountered in multiply\n",
      "  scaled_traces = traces * self.gain[:, channel_indices] + self.offset[:, channel_indices]\n",
      "/Users/jonsoucy/anaconda3/envs/spike/lib/python3.11/site-packages/spikeinterface/preprocessing/normalize_scale.py:22: RuntimeWarning: invalid value encountered in multiply\n",
      "  scaled_traces = traces * self.gain[:, channel_indices] + self.offset[:, channel_indices]\n",
      "/Users/jonsoucy/anaconda3/envs/spike/lib/python3.11/site-packages/spikeinterface/preprocessing/normalize_scale.py:22: RuntimeWarning: invalid value encountered in multiply\n",
      "  scaled_traces = traces * self.gain[:, channel_indices] + self.offset[:, channel_indices]\n",
      "/Users/jonsoucy/anaconda3/envs/spike/lib/python3.11/site-packages/spikeinterface/preprocessing/normalize_scale.py:22: RuntimeWarning: invalid value encountered in multiply\n",
      "  scaled_traces = traces * self.gain[:, channel_indices] + self.offset[:, channel_indices]\n",
      "/Users/jonsoucy/anaconda3/envs/spike/lib/python3.11/site-packages/spikeinterface/preprocessing/normalize_scale.py:22: RuntimeWarning: invalid value encountered in multiply\n",
      "  scaled_traces = traces * self.gain[:, channel_indices] + self.offset[:, channel_indices]\n",
      "/Users/jonsoucy/anaconda3/envs/spike/lib/python3.11/site-packages/spikeinterface/preprocessing/normalize_scale.py:22: RuntimeWarning: invalid value encountered in multiply\n",
      "  scaled_traces = traces * self.gain[:, channel_indices] + self.offset[:, channel_indices]\n",
      "/Users/jonsoucy/anaconda3/envs/spike/lib/python3.11/site-packages/spikeinterface/preprocessing/normalize_scale.py:22: RuntimeWarning: invalid value encountered in multiply\n",
      "  scaled_traces = traces * self.gain[:, channel_indices] + self.offset[:, channel_indices]\n",
      "/Users/jonsoucy/anaconda3/envs/spike/lib/python3.11/site-packages/spikeinterface/preprocessing/normalize_scale.py:22: RuntimeWarning: invalid value encountered in multiply\n",
      "  scaled_traces = traces * self.gain[:, channel_indices] + self.offset[:, channel_indices]\n",
      "/Users/jonsoucy/anaconda3/envs/spike/lib/python3.11/site-packages/spikeinterface/preprocessing/normalize_scale.py:22: RuntimeWarning: invalid value encountered in multiply\n",
      "  scaled_traces = traces * self.gain[:, channel_indices] + self.offset[:, channel_indices]\n",
      "/Users/jonsoucy/anaconda3/envs/spike/lib/python3.11/site-packages/spikeinterface/preprocessing/normalize_scale.py:22: RuntimeWarning: invalid value encountered in multiply\n",
      "  scaled_traces = traces * self.gain[:, channel_indices] + self.offset[:, channel_indices]\n",
      "/Users/jonsoucy/anaconda3/envs/spike/lib/python3.11/site-packages/spikeinterface/preprocessing/normalize_scale.py:22: RuntimeWarning: invalid value encountered in multiply\n",
      "  scaled_traces = traces * self.gain[:, channel_indices] + self.offset[:, channel_indices]\n",
      "/Users/jonsoucy/anaconda3/envs/spike/lib/python3.11/site-packages/spikeinterface/preprocessing/normalize_scale.py:22: RuntimeWarning: invalid value encountered in multiply\n",
      "  scaled_traces = traces * self.gain[:, channel_indices] + self.offset[:, channel_indices]\n",
      "/Users/jonsoucy/anaconda3/envs/spike/lib/python3.11/site-packages/spikeinterface/preprocessing/normalize_scale.py:22: RuntimeWarning: invalid value encountered in multiply\n",
      "  scaled_traces = traces * self.gain[:, channel_indices] + self.offset[:, channel_indices]\n",
      "/Users/jonsoucy/anaconda3/envs/spike/lib/python3.11/site-packages/spikeinterface/preprocessing/normalize_scale.py:22: RuntimeWarning: invalid value encountered in multiply\n",
      "  scaled_traces = traces * self.gain[:, channel_indices] + self.offset[:, channel_indices]\n",
      "/Users/jonsoucy/anaconda3/envs/spike/lib/python3.11/site-packages/spikeinterface/preprocessing/normalize_scale.py:22: RuntimeWarning: invalid value encountered in multiply\n",
      "  scaled_traces = traces * self.gain[:, channel_indices] + self.offset[:, channel_indices]\n",
      "/Users/jonsoucy/anaconda3/envs/spike/lib/python3.11/site-packages/spikeinterface/preprocessing/normalize_scale.py:22: RuntimeWarning: invalid value encountered in multiply\n",
      "  scaled_traces = traces * self.gain[:, channel_indices] + self.offset[:, channel_indices]\n",
      "/Users/jonsoucy/anaconda3/envs/spike/lib/python3.11/site-packages/spikeinterface/preprocessing/normalize_scale.py:22: RuntimeWarning: invalid value encountered in multiply\n",
      "  scaled_traces = traces * self.gain[:, channel_indices] + self.offset[:, channel_indices]\n",
      "/Users/jonsoucy/anaconda3/envs/spike/lib/python3.11/site-packages/spikeinterface/preprocessing/normalize_scale.py:22: RuntimeWarning: invalid value encountered in multiply\n",
      "  scaled_traces = traces * self.gain[:, channel_indices] + self.offset[:, channel_indices]\n",
      "/Users/jonsoucy/anaconda3/envs/spike/lib/python3.11/site-packages/spikeinterface/preprocessing/normalize_scale.py:22: RuntimeWarning: invalid value encountered in multiply\n",
      "  scaled_traces = traces * self.gain[:, channel_indices] + self.offset[:, channel_indices]\n",
      "/Users/jonsoucy/anaconda3/envs/spike/lib/python3.11/site-packages/spikeinterface/preprocessing/normalize_scale.py:22: RuntimeWarning: invalid value encountered in multiply\n",
      "  scaled_traces = traces * self.gain[:, channel_indices] + self.offset[:, channel_indices]\n"
     ]
    },
    {
     "data": {
      "application/vnd.jupyter.widget-view+json": {
       "model_id": "8ac73eeb39dc46f6b18782f05446d71c",
       "version_major": 2,
       "version_minor": 0
      },
      "text/plain": [
       "detect peaks using locally_exclusive:   0%|          | 0/301 [00:00<?, ?it/s]"
      ]
     },
     "metadata": {},
     "output_type": "display_data"
    },
    {
     "name": "stderr",
     "output_type": "stream",
     "text": [
      "/Users/jonsoucy/anaconda3/envs/spike/lib/python3.11/site-packages/spikeinterface/preprocessing/normalize_scale.py:22: RuntimeWarning: invalid value encountered in multiply\n",
      "  scaled_traces = traces * self.gain[:, channel_indices] + self.offset[:, channel_indices]\n",
      "/Users/jonsoucy/anaconda3/envs/spike/lib/python3.11/site-packages/spikeinterface/preprocessing/normalize_scale.py:22: RuntimeWarning: invalid value encountered in multiply\n",
      "  scaled_traces = traces * self.gain[:, channel_indices] + self.offset[:, channel_indices]\n",
      "/Users/jonsoucy/anaconda3/envs/spike/lib/python3.11/site-packages/spikeinterface/preprocessing/normalize_scale.py:22: RuntimeWarning: invalid value encountered in multiply\n",
      "  scaled_traces = traces * self.gain[:, channel_indices] + self.offset[:, channel_indices]\n"
     ]
    },
    {
     "name": "stdout",
     "output_type": "stream",
     "text": [
      "We found 7 peaks in total\n",
      "We kept 7 peaks for clustering\n",
      "extracting features with n_jobs = 12 and chunk_size = 20000\n"
     ]
    },
    {
     "name": "stderr",
     "output_type": "stream",
     "text": [
      "OMP: Info #276: omp_set_nested routine deprecated, please use omp_set_max_active_levels instead.\n",
      "/Users/jonsoucy/anaconda3/envs/spike/lib/python3.11/site-packages/spikeinterface/preprocessing/normalize_scale.py:22: RuntimeWarning: invalid value encountered in multiply\n",
      "  scaled_traces = traces * self.gain[:, channel_indices] + self.offset[:, channel_indices]\n",
      "OMP: Info #276: omp_set_nested routine deprecated, please use omp_set_max_active_levels instead.\n",
      "/Users/jonsoucy/anaconda3/envs/spike/lib/python3.11/site-packages/spikeinterface/preprocessing/normalize_scale.py:22: RuntimeWarning: invalid value encountered in multiply\n",
      "  scaled_traces = traces * self.gain[:, channel_indices] + self.offset[:, channel_indices]\n",
      "OMP: Info #276: omp_set_nested routine deprecated, please use omp_set_max_active_levels instead.\n",
      "/Users/jonsoucy/anaconda3/envs/spike/lib/python3.11/site-packages/spikeinterface/preprocessing/normalize_scale.py:22: RuntimeWarning: invalid value encountered in multiply\n",
      "  scaled_traces = traces * self.gain[:, channel_indices] + self.offset[:, channel_indices]\n",
      "OMP: Info #276: omp_set_nested routine deprecated, please use omp_set_max_active_levels instead.\n",
      "/Users/jonsoucy/anaconda3/envs/spike/lib/python3.11/site-packages/spikeinterface/preprocessing/normalize_scale.py:22: RuntimeWarning: invalid value encountered in multiply\n",
      "  scaled_traces = traces * self.gain[:, channel_indices] + self.offset[:, channel_indices]\n",
      "OMP: Info #276: omp_set_nested routine deprecated, please use omp_set_max_active_levels instead.\n",
      "/Users/jonsoucy/anaconda3/envs/spike/lib/python3.11/site-packages/spikeinterface/preprocessing/normalize_scale.py:22: RuntimeWarning: invalid value encountered in multiply\n",
      "  scaled_traces = traces * self.gain[:, channel_indices] + self.offset[:, channel_indices]\n",
      "OMP: Info #276: omp_set_nested routine deprecated, please use omp_set_max_active_levels instead.\n",
      "/Users/jonsoucy/anaconda3/envs/spike/lib/python3.11/site-packages/spikeinterface/preprocessing/normalize_scale.py:22: RuntimeWarning: invalid value encountered in multiply\n",
      "  scaled_traces = traces * self.gain[:, channel_indices] + self.offset[:, channel_indices]\n",
      "OMP: Info #276: omp_set_nested routine deprecated, please use omp_set_max_active_levels instead.\n",
      "/Users/jonsoucy/anaconda3/envs/spike/lib/python3.11/site-packages/spikeinterface/preprocessing/normalize_scale.py:22: RuntimeWarning: invalid value encountered in multiply\n",
      "  scaled_traces = traces * self.gain[:, channel_indices] + self.offset[:, channel_indices]\n",
      "OMP: Info #276: omp_set_nested routine deprecated, please use omp_set_max_active_levels instead.\n",
      "/Users/jonsoucy/anaconda3/envs/spike/lib/python3.11/site-packages/spikeinterface/preprocessing/normalize_scale.py:22: RuntimeWarning: invalid value encountered in multiply\n",
      "  scaled_traces = traces * self.gain[:, channel_indices] + self.offset[:, channel_indices]\n",
      "OMP: Info #276: omp_set_nested routine deprecated, please use omp_set_max_active_levels instead.\n",
      "/Users/jonsoucy/anaconda3/envs/spike/lib/python3.11/site-packages/spikeinterface/preprocessing/normalize_scale.py:22: RuntimeWarning: invalid value encountered in multiply\n",
      "  scaled_traces = traces * self.gain[:, channel_indices] + self.offset[:, channel_indices]\n",
      "OMP: Info #276: omp_set_nested routine deprecated, please use omp_set_max_active_levels instead.\n",
      "/Users/jonsoucy/anaconda3/envs/spike/lib/python3.11/site-packages/spikeinterface/preprocessing/normalize_scale.py:22: RuntimeWarning: invalid value encountered in multiply\n",
      "  scaled_traces = traces * self.gain[:, channel_indices] + self.offset[:, channel_indices]\n",
      "OMP: Info #276: omp_set_nested routine deprecated, please use omp_set_max_active_levels instead.\n",
      "/Users/jonsoucy/anaconda3/envs/spike/lib/python3.11/site-packages/spikeinterface/preprocessing/normalize_scale.py:22: RuntimeWarning: invalid value encountered in multiply\n",
      "  scaled_traces = traces * self.gain[:, channel_indices] + self.offset[:, channel_indices]\n",
      "OMP: Info #276: omp_set_nested routine deprecated, please use omp_set_max_active_levels instead.\n"
     ]
    },
    {
     "data": {
      "application/vnd.jupyter.widget-view+json": {
       "model_id": "7375eec0608843309a0302813e5560f3",
       "version_major": 2,
       "version_minor": 0
      },
      "text/plain": [
       "extracting features:   0%|          | 0/301 [00:00<?, ?it/s]"
      ]
     },
     "metadata": {},
     "output_type": "display_data"
    },
    {
     "name": "stderr",
     "output_type": "stream",
     "text": [
      "/Users/jonsoucy/anaconda3/envs/spike/lib/python3.11/site-packages/spikeinterface/preprocessing/normalize_scale.py:22: RuntimeWarning: invalid value encountered in multiply\n",
      "  scaled_traces = traces * self.gain[:, channel_indices] + self.offset[:, channel_indices]\n"
     ]
    },
    {
     "name": "stdout",
     "output_type": "stream",
     "text": [
      "We found 0 raw clusters, starting to clean with matching...\n",
      "extract waveforms shared_memory multi buffer with n_jobs = 12 and chunk_size = 20000\n"
     ]
    },
    {
     "data": {
      "application/vnd.jupyter.widget-view+json": {
       "model_id": "b0cdb3df844b40e4938e5e7e2fea063c",
       "version_major": 2,
       "version_minor": 0
      },
      "text/plain": [
       "extract waveforms shared_memory multi buffer:   0%|          | 0/301 [00:00<?, ?it/s]"
      ]
     },
     "metadata": {},
     "output_type": "display_data"
    },
    {
     "name": "stdout",
     "output_type": "stream",
     "text": [
      "Error running spykingcircus2\n"
     ]
    },
    {
     "ename": "SpikeSortingError",
     "evalue": "Spike sorting error trace:\nTraceback (most recent call last):\n  File \"/Users/jonsoucy/anaconda3/envs/spike/lib/python3.11/site-packages/spikeinterface/sorters/basesorter.py\", line 254, in run_from_folder\n    SorterClass._run_from_folder(sorter_output_folder, sorter_params, verbose)\n  File \"/Users/jonsoucy/anaconda3/envs/spike/lib/python3.11/site-packages/spikeinterface/sorters/internal/spyking_circus2.py\", line 112, in _run_from_folder\n    labels, peak_labels = find_cluster_from_peaks(\n                          ^^^^^^^^^^^^^^^^^^^^^^^^\n  File \"/Users/jonsoucy/anaconda3/envs/spike/lib/python3.11/site-packages/spikeinterface/sortingcomponents/clustering/main.py\", line 42, in find_cluster_from_peaks\n    labels, peak_labels = method_class.main_function(recording, peaks, params)\n                          ^^^^^^^^^^^^^^^^^^^^^^^^^^^^^^^^^^^^^^^^^^^^^^^^^^^^\n  File \"/Users/jonsoucy/anaconda3/envs/spike/lib/python3.11/site-packages/spikeinterface/sortingcomponents/clustering/random_projections.py\", line 240, in main_function\n    labels, peak_labels = remove_duplicates_via_matching(\n                          ^^^^^^^^^^^^^^^^^^^^^^^^^^^^^^^\n  File \"/Users/jonsoucy/anaconda3/envs/spike/lib/python3.11/site-packages/spikeinterface/sortingcomponents/clustering/clustering_tools.py\", line 569, in remove_duplicates_via_matching\n    zdata = templates.reshape(nb_templates, -1)\n            ^^^^^^^^^^^^^^^^^^^^^^^^^^^^^^^^^^^\nValueError: cannot reshape array of size 0 into shape (0,newaxis)\n\nSpike sorting failed. You can inspect the runtime trace in /Users/jonsoucy/Desktop/maxlab/test/spykingcircus2_output/spikeinterface_log.json.",
     "output_type": "error",
     "traceback": [
      "\u001b[0;31m---------------------------------------------------------------------------\u001b[0m",
      "\u001b[0;31mSpikeSortingError\u001b[0m                         Traceback (most recent call last)",
      "Cell \u001b[0;32mIn[4], line 7\u001b[0m\n\u001b[1;32m      5\u001b[0m recording_f \u001b[38;5;241m=\u001b[39m spre\u001b[38;5;241m.\u001b[39mbandpass_filter(recording, freq_min\u001b[38;5;241m=\u001b[39m\u001b[38;5;241m300\u001b[39m, freq_max\u001b[38;5;241m=\u001b[39m\u001b[38;5;241m3000\u001b[39m,dtype\u001b[38;5;241m=\u001b[39m\u001b[38;5;124m\"\u001b[39m\u001b[38;5;124mfloat32\u001b[39m\u001b[38;5;124m\"\u001b[39m)\n\u001b[1;32m      6\u001b[0m recording_crm \u001b[38;5;241m=\u001b[39m spre\u001b[38;5;241m.\u001b[39mcommon_reference(recording_f, reference\u001b[38;5;241m=\u001b[39m\u001b[38;5;124m'\u001b[39m\u001b[38;5;124mglobal\u001b[39m\u001b[38;5;124m'\u001b[39m, operator\u001b[38;5;241m=\u001b[39m\u001b[38;5;124m'\u001b[39m\u001b[38;5;124mmedian\u001b[39m\u001b[38;5;124m'\u001b[39m)\n\u001b[0;32m----> 7\u001b[0m sorting \u001b[38;5;241m=\u001b[39m \u001b[43mss\u001b[49m\u001b[38;5;241;43m.\u001b[39;49m\u001b[43mrun_sorter\u001b[49m\u001b[43m(\u001b[49m\u001b[43msorter_name\u001b[49m\u001b[38;5;241;43m=\u001b[39;49m\u001b[38;5;124;43m\"\u001b[39;49m\u001b[38;5;124;43mspykingcircus2\u001b[39;49m\u001b[38;5;124;43m\"\u001b[39;49m\u001b[43m,\u001b[49m\u001b[43m \u001b[49m\u001b[43mremove_existing_folder\u001b[49m\u001b[38;5;241;43m=\u001b[39;49m\u001b[38;5;28;43;01mTrue\u001b[39;49;00m\u001b[43m,\u001b[49m\u001b[43mrecording\u001b[49m\u001b[38;5;241;43m=\u001b[39;49m\u001b[43mrecording_crm\u001b[49m\u001b[43m,\u001b[49m\u001b[43m \u001b[49m\u001b[43mverbose\u001b[49m\u001b[38;5;241;43m=\u001b[39;49m\u001b[38;5;28;43;01mTrue\u001b[39;49;00m\u001b[43m,\u001b[49m\u001b[43m \u001b[49m\u001b[38;5;241;43m*\u001b[39;49m\u001b[38;5;241;43m*\u001b[39;49m\u001b[43mother_params2\u001b[49m\u001b[43m)\u001b[49m\n\u001b[1;32m      8\u001b[0m \u001b[38;5;28mprint\u001b[39m(sorting)\n\u001b[1;32m      9\u001b[0m we \u001b[38;5;241m=\u001b[39m si\u001b[38;5;241m.\u001b[39mextract_waveforms(recording_crm, sorting, \u001b[38;5;124m'\u001b[39m\u001b[38;5;124mwaveforms_folder\u001b[39m\u001b[38;5;124m'\u001b[39m, overwrite\u001b[38;5;241m=\u001b[39m\u001b[38;5;28;01mTrue\u001b[39;00m)\n",
      "File \u001b[0;32m~/anaconda3/envs/spike/lib/python3.11/site-packages/spikeinterface/sorters/runsorter.py:147\u001b[0m, in \u001b[0;36mrun_sorter\u001b[0;34m(sorter_name, recording, output_folder, remove_existing_folder, delete_output_folder, verbose, raise_error, docker_image, singularity_image, delete_container_files, with_output, **sorter_params)\u001b[0m\n\u001b[1;32m    140\u001b[0m             container_image \u001b[38;5;241m=\u001b[39m singularity_image\n\u001b[1;32m    141\u001b[0m     \u001b[38;5;28;01mreturn\u001b[39;00m run_sorter_container(\n\u001b[1;32m    142\u001b[0m         container_image\u001b[38;5;241m=\u001b[39mcontainer_image,\n\u001b[1;32m    143\u001b[0m         mode\u001b[38;5;241m=\u001b[39mmode,\n\u001b[1;32m    144\u001b[0m         \u001b[38;5;241m*\u001b[39m\u001b[38;5;241m*\u001b[39mcommon_kwargs,\n\u001b[1;32m    145\u001b[0m     )\n\u001b[0;32m--> 147\u001b[0m \u001b[38;5;28;01mreturn\u001b[39;00m \u001b[43mrun_sorter_local\u001b[49m\u001b[43m(\u001b[49m\u001b[38;5;241;43m*\u001b[39;49m\u001b[38;5;241;43m*\u001b[39;49m\u001b[43mcommon_kwargs\u001b[49m\u001b[43m)\u001b[49m\n",
      "File \u001b[0;32m~/anaconda3/envs/spike/lib/python3.11/site-packages/spikeinterface/sorters/runsorter.py:173\u001b[0m, in \u001b[0;36mrun_sorter_local\u001b[0;34m(sorter_name, recording, output_folder, remove_existing_folder, delete_output_folder, verbose, raise_error, with_output, **sorter_params)\u001b[0m\n\u001b[1;32m    171\u001b[0m SorterClass\u001b[38;5;241m.\u001b[39mset_params_to_folder(recording, output_folder, sorter_params, verbose)\n\u001b[1;32m    172\u001b[0m SorterClass\u001b[38;5;241m.\u001b[39msetup_recording(recording, output_folder, verbose\u001b[38;5;241m=\u001b[39mverbose)\n\u001b[0;32m--> 173\u001b[0m \u001b[43mSorterClass\u001b[49m\u001b[38;5;241;43m.\u001b[39;49m\u001b[43mrun_from_folder\u001b[49m\u001b[43m(\u001b[49m\u001b[43moutput_folder\u001b[49m\u001b[43m,\u001b[49m\u001b[43m \u001b[49m\u001b[43mraise_error\u001b[49m\u001b[43m,\u001b[49m\u001b[43m \u001b[49m\u001b[43mverbose\u001b[49m\u001b[43m)\u001b[49m\n\u001b[1;32m    174\u001b[0m \u001b[38;5;28;01mif\u001b[39;00m with_output:\n\u001b[1;32m    175\u001b[0m     sorting \u001b[38;5;241m=\u001b[39m SorterClass\u001b[38;5;241m.\u001b[39mget_result_from_folder(output_folder)\n",
      "File \u001b[0;32m~/anaconda3/envs/spike/lib/python3.11/site-packages/spikeinterface/sorters/basesorter.py:289\u001b[0m, in \u001b[0;36mBaseSorter.run_from_folder\u001b[0;34m(cls, output_folder, raise_error, verbose)\u001b[0m\n\u001b[1;32m    286\u001b[0m         \u001b[38;5;28mprint\u001b[39m(\u001b[38;5;124mf\u001b[39m\u001b[38;5;124m\"\u001b[39m\u001b[38;5;132;01m{\u001b[39;00msorter_name\u001b[38;5;132;01m}\u001b[39;00m\u001b[38;5;124m run time \u001b[39m\u001b[38;5;132;01m{\u001b[39;00mrun_time\u001b[38;5;132;01m:\u001b[39;00m\u001b[38;5;124m0.2f\u001b[39m\u001b[38;5;132;01m}\u001b[39;00m\u001b[38;5;124ms\u001b[39m\u001b[38;5;124m\"\u001b[39m)\n\u001b[1;32m    288\u001b[0m \u001b[38;5;28;01mif\u001b[39;00m has_error \u001b[38;5;129;01mand\u001b[39;00m raise_error:\n\u001b[0;32m--> 289\u001b[0m     \u001b[38;5;28;01mraise\u001b[39;00m SpikeSortingError(\n\u001b[1;32m    290\u001b[0m         \u001b[38;5;124mf\u001b[39m\u001b[38;5;124m\"\u001b[39m\u001b[38;5;124mSpike sorting error trace:\u001b[39m\u001b[38;5;130;01m\\n\u001b[39;00m\u001b[38;5;132;01m{\u001b[39;00mlog[\u001b[38;5;124m'\u001b[39m\u001b[38;5;124merror_trace\u001b[39m\u001b[38;5;124m'\u001b[39m]\u001b[38;5;132;01m}\u001b[39;00m\u001b[38;5;130;01m\\n\u001b[39;00m\u001b[38;5;124m\"\u001b[39m\n\u001b[1;32m    291\u001b[0m         \u001b[38;5;124mf\u001b[39m\u001b[38;5;124m\"\u001b[39m\u001b[38;5;124mSpike sorting failed. You can inspect the runtime trace in \u001b[39m\u001b[38;5;132;01m{\u001b[39;00moutput_folder\u001b[38;5;132;01m}\u001b[39;00m\u001b[38;5;124m/spikeinterface_log.json.\u001b[39m\u001b[38;5;124m\"\u001b[39m\n\u001b[1;32m    292\u001b[0m     )\n\u001b[1;32m    294\u001b[0m \u001b[38;5;28;01mreturn\u001b[39;00m run_time\n",
      "\u001b[0;31mSpikeSortingError\u001b[0m: Spike sorting error trace:\nTraceback (most recent call last):\n  File \"/Users/jonsoucy/anaconda3/envs/spike/lib/python3.11/site-packages/spikeinterface/sorters/basesorter.py\", line 254, in run_from_folder\n    SorterClass._run_from_folder(sorter_output_folder, sorter_params, verbose)\n  File \"/Users/jonsoucy/anaconda3/envs/spike/lib/python3.11/site-packages/spikeinterface/sorters/internal/spyking_circus2.py\", line 112, in _run_from_folder\n    labels, peak_labels = find_cluster_from_peaks(\n                          ^^^^^^^^^^^^^^^^^^^^^^^^\n  File \"/Users/jonsoucy/anaconda3/envs/spike/lib/python3.11/site-packages/spikeinterface/sortingcomponents/clustering/main.py\", line 42, in find_cluster_from_peaks\n    labels, peak_labels = method_class.main_function(recording, peaks, params)\n                          ^^^^^^^^^^^^^^^^^^^^^^^^^^^^^^^^^^^^^^^^^^^^^^^^^^^^\n  File \"/Users/jonsoucy/anaconda3/envs/spike/lib/python3.11/site-packages/spikeinterface/sortingcomponents/clustering/random_projections.py\", line 240, in main_function\n    labels, peak_labels = remove_duplicates_via_matching(\n                          ^^^^^^^^^^^^^^^^^^^^^^^^^^^^^^^\n  File \"/Users/jonsoucy/anaconda3/envs/spike/lib/python3.11/site-packages/spikeinterface/sortingcomponents/clustering/clustering_tools.py\", line 569, in remove_duplicates_via_matching\n    zdata = templates.reshape(nb_templates, -1)\n            ^^^^^^^^^^^^^^^^^^^^^^^^^^^^^^^^^^^\nValueError: cannot reshape array of size 0 into shape (0,newaxis)\n\nSpike sorting failed. You can inspect the runtime trace in /Users/jonsoucy/Desktop/maxlab/test/spykingcircus2_output/spikeinterface_log.json."
     ]
    }
   ],
   "source": [
    "n = len(datafiles)\n",
    "for i in range(n):\n",
    "    recording = se.read_maxwell(datafiles[i])\n",
    "    print(recording)\n",
    "    recording_f = spre.bandpass_filter(recording, freq_min=300, freq_max=3000,dtype=\"float32\")\n",
    "    recording_crm = spre.common_reference(recording_f, reference='global', operator='median')\n",
    "    sorting = ss.run_sorter(sorter_name=\"spykingcircus2\", remove_existing_folder=True,recording=recording_crm, verbose=True, **other_params2)\n",
    "    print(sorting)\n",
    "    we = si.extract_waveforms(recording_crm, sorting, 'waveforms_folder', overwrite=True)\n",
    "    print(we)\n",
    "    amplitudes = spost.compute_spike_amplitudes(we)\n",
    "    unit_locations = spost.compute_unit_locations(we)\n",
    "    spike_locations = spost.compute_spike_locations(we)\n",
    "    correlograms, bins = spost.compute_correlograms(we)\n",
    "    similarity = spost.compute_template_similarity(we)\n",
    "    qms = sqm.compute_quality_metrics(we)\n",
    "    foldername = os.path.splitext(datafiles[i])[0]\n",
    "    _ = sexp.export_report(waveform_extractor=we, output_folder=foldername)"
   ]
  }
 ],
 "metadata": {
  "kernelspec": {
   "display_name": "Python 3 (ipykernel)",
   "language": "python",
   "name": "python3"
  },
  "language_info": {
   "codemirror_mode": {
    "name": "ipython",
    "version": 3
   },
   "file_extension": ".py",
   "mimetype": "text/x-python",
   "name": "python",
   "nbconvert_exporter": "python",
   "pygments_lexer": "ipython3",
   "version": "3.11.7"
  }
 },
 "nbformat": 4,
 "nbformat_minor": 5
}
